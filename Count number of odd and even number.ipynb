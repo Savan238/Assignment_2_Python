{
 "cells": [
  {
   "cell_type": "markdown",
   "id": "e3b4a10d",
   "metadata": {},
   "source": [
    "# Write a Python to count number of odd and even number from the series of the list:\n",
    "\n",
    "[ 2,3,4,55,56,78,75,69,66,101,100 ]"
   ]
  },
  {
   "cell_type": "code",
   "execution_count": 1,
   "id": "713375ea",
   "metadata": {},
   "outputs": [
    {
     "name": "stdout",
     "output_type": "stream",
     "text": [
      "Even Numbers:  [2, 4, 56, 78, 66, 100]\n",
      "Odd Numbers:  [3, 55, 75, 69, 101]\n"
     ]
    }
   ],
   "source": [
    "L1 = [ 2,3,4,55,56,78,75,69,66,101,100 ]\n",
    "Even = []\n",
    "Odd = []\n",
    "for i in range(11):\n",
    "    if L1[i]%2 == 0:\n",
    "        Even.append(L1[i])\n",
    "    else:\n",
    "        Odd.append(L1[i]) \n",
    "\n",
    "print(\"Even Numbers: \", Even) \n",
    "print(\"Odd Numbers: \", Odd)\n",
    "    \n"
   ]
  },
  {
   "cell_type": "code",
   "execution_count": null,
   "id": "e42864e4",
   "metadata": {},
   "outputs": [],
   "source": []
  }
 ],
 "metadata": {
  "kernelspec": {
   "display_name": "Python 3 (ipykernel)",
   "language": "python",
   "name": "python3"
  },
  "language_info": {
   "codemirror_mode": {
    "name": "ipython",
    "version": 3
   },
   "file_extension": ".py",
   "mimetype": "text/x-python",
   "name": "python",
   "nbconvert_exporter": "python",
   "pygments_lexer": "ipython3",
   "version": "3.9.13"
  }
 },
 "nbformat": 4,
 "nbformat_minor": 5
}
